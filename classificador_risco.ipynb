{
  "cells": [
    {
      "cell_type": "markdown",
      "metadata": {
        "colab_type": "text",
        "id": "view-in-github"
      },
      "source": [
        "<a href=\"https://colab.research.google.com/github/pedrosof/CardioAI--Classificador/blob/main/classificador_risco.ipynb\" target=\"_parent\"><img src=\"https://colab.research.google.com/assets/colab-badge.svg\" alt=\"Open In Colab\"/></a>"
      ]
    },
    {
      "cell_type": "markdown",
      "id": "e7d953f8",
      "metadata": {
        "id": "e7d953f8"
      },
      "source": [
        "# Classificador de risco clínico\n",
        "\n",
        "Este notebook foi preparado para execução no **Google Colab**. Ele monta o Google Drive, acessa a pasta `My Drive/CardioAI/Classificador/data` para ler o arquivo `mapa_risco.csv` e salva relatórios e gráficos em `My Drive/CardioAI/Classificador/reports`.\n",
        "\n",
        "Estrutura esperada no Drive:\n",
        "```\n",
        "MyDrive/\n",
        "└── CardioAI/\n",
        "    └── Classificador/\n",
        "        ├── data/\n",
        "        │   └── mapa_risco.csv\n",
        "        └── reports/\n",
        "```"
      ]
    },
    {
      "cell_type": "code",
      "execution_count": 12,
      "id": "oXPf23p-hFJ3",
      "metadata": {
        "colab": {
          "base_uri": "https://localhost:8080/"
        },
        "id": "oXPf23p-hFJ3",
        "outputId": "d6a66026-bbdf-4e5c-c62c-b294c0bc90a2"
      },
      "outputs": [
        {
          "name": "stdout",
          "output_type": "stream",
          "text": [
            "Mounted at /content/drive\n"
          ]
        }
      ],
      "source": [
        "from google.colab import drive\n",
        "drive.mount('/content/drive', force_remount=True)"
      ]
    },
    {
      "cell_type": "code",
      "execution_count": null,
      "id": "582b1530",
      "metadata": {
        "id": "582b1530"
      },
      "outputs": [],
      "source": [
        "# 1) Definir caminhos\n",
        "import os\n",
        "base_dir = '/content/drive/MyDrive/CardioAI/Classificador'\n",
        "data_dir = os.path.join(base_dir, 'data')\n",
        "reports_dir = os.path.join(base_dir, 'reports')\n",
        "\n",
        "os.makedirs(data_dir, exist_ok=True)\n",
        "os.makedirs(reports_dir, exist_ok=True)\n",
        "\n",
        "CSV_PATH = os.path.join(data_dir, 'mapa_risco.csv')\n",
        "assert os.path.exists(CSV_PATH), f\"Arquivo não encontrado: {CSV_PATH}\""
      ]
    },
    {
      "cell_type": "code",
      "execution_count": null,
      "id": "3369d690",
      "metadata": {
        "colab": {
          "base_uri": "https://localhost:8080/",
          "height": 479
        },
        "id": "3369d690",
        "outputId": "0f1f69dc-295c-43c1-9f23-0ae2b85ee70f"
      },
      "outputs": [
        {
          "name": "stdout",
          "output_type": "stream",
          "text": [
            "Dimensões: (51, 2)\n",
            "\n",
            "Amostra das primeiras linhas:\n"
          ]
        },
        {
          "data": {
            "application/vnd.google.colaboratory.intrinsic+json": {
              "summary": "{\n  \"name\": \"display(df['situacao']\",\n  \"rows\": 5,\n  \"fields\": [\n    {\n      \"column\": \"frase\",\n      \"properties\": {\n        \"dtype\": \"string\",\n        \"num_unique_values\": 5,\n        \"samples\": [\n          \"tive um leve inc\\u00f4modo nas costas\",\n          \"tenho febre alta e calafrios\",\n          \"sinto palpita\\u00e7\\u00f5es e tontura constante\"\n        ],\n        \"semantic_type\": \"\",\n        \"description\": \"\"\n      }\n    },\n    {\n      \"column\": \"situacao\",\n      \"properties\": {\n        \"dtype\": \"string\",\n        \"num_unique_values\": 3,\n        \"samples\": [\n          \"alto risco\",\n          \"baixo risco\",\n          \"m\\u00e9dio risco\"\n        ],\n        \"semantic_type\": \"\",\n        \"description\": \"\"\n      }\n    }\n  ]\n}",
              "type": "dataframe"
            },
            "text/html": [
              "\n",
              "  <div id=\"df-6e3ae057-8099-4973-9cc0-ac0f2d512452\" class=\"colab-df-container\">\n",
              "    <div>\n",
              "<style scoped>\n",
              "    .dataframe tbody tr th:only-of-type {\n",
              "        vertical-align: middle;\n",
              "    }\n",
              "\n",
              "    .dataframe tbody tr th {\n",
              "        vertical-align: top;\n",
              "    }\n",
              "\n",
              "    .dataframe thead th {\n",
              "        text-align: right;\n",
              "    }\n",
              "</style>\n",
              "<table border=\"1\" class=\"dataframe\">\n",
              "  <thead>\n",
              "    <tr style=\"text-align: right;\">\n",
              "      <th></th>\n",
              "      <th>frase</th>\n",
              "      <th>situacao</th>\n",
              "    </tr>\n",
              "  </thead>\n",
              "  <tbody>\n",
              "    <tr>\n",
              "      <th>0</th>\n",
              "      <td>sinto dor no peito e falta de ar</td>\n",
              "      <td>alto risco</td>\n",
              "    </tr>\n",
              "    <tr>\n",
              "      <th>1</th>\n",
              "      <td>tive um leve incômodo nas costas</td>\n",
              "      <td>baixo risco</td>\n",
              "    </tr>\n",
              "    <tr>\n",
              "      <th>2</th>\n",
              "      <td>sinto palpitações e tontura constante</td>\n",
              "      <td>alto risco</td>\n",
              "    </tr>\n",
              "    <tr>\n",
              "      <th>3</th>\n",
              "      <td>acordei com dor de cabeça leve</td>\n",
              "      <td>baixo risco</td>\n",
              "    </tr>\n",
              "    <tr>\n",
              "      <th>4</th>\n",
              "      <td>tenho febre alta e calafrios</td>\n",
              "      <td>médio risco</td>\n",
              "    </tr>\n",
              "  </tbody>\n",
              "</table>\n",
              "</div>\n",
              "    <div class=\"colab-df-buttons\">\n",
              "\n",
              "  <div class=\"colab-df-container\">\n",
              "    <button class=\"colab-df-convert\" onclick=\"convertToInteractive('df-6e3ae057-8099-4973-9cc0-ac0f2d512452')\"\n",
              "            title=\"Convert this dataframe to an interactive table.\"\n",
              "            style=\"display:none;\">\n",
              "\n",
              "  <svg xmlns=\"http://www.w3.org/2000/svg\" height=\"24px\" viewBox=\"0 -960 960 960\">\n",
              "    <path d=\"M120-120v-720h720v720H120Zm60-500h600v-160H180v160Zm220 220h160v-160H400v160Zm0 220h160v-160H400v160ZM180-400h160v-160H180v160Zm440 0h160v-160H620v160ZM180-180h160v-160H180v160Zm440 0h160v-160H620v160Z\"/>\n",
              "  </svg>\n",
              "    </button>\n",
              "\n",
              "  <style>\n",
              "    .colab-df-container {\n",
              "      display:flex;\n",
              "      gap: 12px;\n",
              "    }\n",
              "\n",
              "    .colab-df-convert {\n",
              "      background-color: #E8F0FE;\n",
              "      border: none;\n",
              "      border-radius: 50%;\n",
              "      cursor: pointer;\n",
              "      display: none;\n",
              "      fill: #1967D2;\n",
              "      height: 32px;\n",
              "      padding: 0 0 0 0;\n",
              "      width: 32px;\n",
              "    }\n",
              "\n",
              "    .colab-df-convert:hover {\n",
              "      background-color: #E2EBFA;\n",
              "      box-shadow: 0px 1px 2px rgba(60, 64, 67, 0.3), 0px 1px 3px 1px rgba(60, 64, 67, 0.15);\n",
              "      fill: #174EA6;\n",
              "    }\n",
              "\n",
              "    .colab-df-buttons div {\n",
              "      margin-bottom: 4px;\n",
              "    }\n",
              "\n",
              "    [theme=dark] .colab-df-convert {\n",
              "      background-color: #3B4455;\n",
              "      fill: #D2E3FC;\n",
              "    }\n",
              "\n",
              "    [theme=dark] .colab-df-convert:hover {\n",
              "      background-color: #434B5C;\n",
              "      box-shadow: 0px 1px 3px 1px rgba(0, 0, 0, 0.15);\n",
              "      filter: drop-shadow(0px 1px 2px rgba(0, 0, 0, 0.3));\n",
              "      fill: #FFFFFF;\n",
              "    }\n",
              "  </style>\n",
              "\n",
              "    <script>\n",
              "      const buttonEl =\n",
              "        document.querySelector('#df-6e3ae057-8099-4973-9cc0-ac0f2d512452 button.colab-df-convert');\n",
              "      buttonEl.style.display =\n",
              "        google.colab.kernel.accessAllowed ? 'block' : 'none';\n",
              "\n",
              "      async function convertToInteractive(key) {\n",
              "        const element = document.querySelector('#df-6e3ae057-8099-4973-9cc0-ac0f2d512452');\n",
              "        const dataTable =\n",
              "          await google.colab.kernel.invokeFunction('convertToInteractive',\n",
              "                                                    [key], {});\n",
              "        if (!dataTable) return;\n",
              "\n",
              "        const docLinkHtml = 'Like what you see? Visit the ' +\n",
              "          '<a target=\"_blank\" href=https://colab.research.google.com/notebooks/data_table.ipynb>data table notebook</a>'\n",
              "          + ' to learn more about interactive tables.';\n",
              "        element.innerHTML = '';\n",
              "        dataTable['output_type'] = 'display_data';\n",
              "        await google.colab.output.renderOutput(dataTable, element);\n",
              "        const docLink = document.createElement('div');\n",
              "        docLink.innerHTML = docLinkHtml;\n",
              "        element.appendChild(docLink);\n",
              "      }\n",
              "    </script>\n",
              "  </div>\n",
              "\n",
              "\n",
              "    <div id=\"df-a17b498a-b953-4d53-9e69-e42adbf1deb8\">\n",
              "      <button class=\"colab-df-quickchart\" onclick=\"quickchart('df-a17b498a-b953-4d53-9e69-e42adbf1deb8')\"\n",
              "                title=\"Suggest charts\"\n",
              "                style=\"display:none;\">\n",
              "\n",
              "<svg xmlns=\"http://www.w3.org/2000/svg\" height=\"24px\"viewBox=\"0 0 24 24\"\n",
              "     width=\"24px\">\n",
              "    <g>\n",
              "        <path d=\"M19 3H5c-1.1 0-2 .9-2 2v14c0 1.1.9 2 2 2h14c1.1 0 2-.9 2-2V5c0-1.1-.9-2-2-2zM9 17H7v-7h2v7zm4 0h-2V7h2v10zm4 0h-2v-4h2v4z\"/>\n",
              "    </g>\n",
              "</svg>\n",
              "      </button>\n",
              "\n",
              "<style>\n",
              "  .colab-df-quickchart {\n",
              "      --bg-color: #E8F0FE;\n",
              "      --fill-color: #1967D2;\n",
              "      --hover-bg-color: #E2EBFA;\n",
              "      --hover-fill-color: #174EA6;\n",
              "      --disabled-fill-color: #AAA;\n",
              "      --disabled-bg-color: #DDD;\n",
              "  }\n",
              "\n",
              "  [theme=dark] .colab-df-quickchart {\n",
              "      --bg-color: #3B4455;\n",
              "      --fill-color: #D2E3FC;\n",
              "      --hover-bg-color: #434B5C;\n",
              "      --hover-fill-color: #FFFFFF;\n",
              "      --disabled-bg-color: #3B4455;\n",
              "      --disabled-fill-color: #666;\n",
              "  }\n",
              "\n",
              "  .colab-df-quickchart {\n",
              "    background-color: var(--bg-color);\n",
              "    border: none;\n",
              "    border-radius: 50%;\n",
              "    cursor: pointer;\n",
              "    display: none;\n",
              "    fill: var(--fill-color);\n",
              "    height: 32px;\n",
              "    padding: 0;\n",
              "    width: 32px;\n",
              "  }\n",
              "\n",
              "  .colab-df-quickchart:hover {\n",
              "    background-color: var(--hover-bg-color);\n",
              "    box-shadow: 0 1px 2px rgba(60, 64, 67, 0.3), 0 1px 3px 1px rgba(60, 64, 67, 0.15);\n",
              "    fill: var(--button-hover-fill-color);\n",
              "  }\n",
              "\n",
              "  .colab-df-quickchart-complete:disabled,\n",
              "  .colab-df-quickchart-complete:disabled:hover {\n",
              "    background-color: var(--disabled-bg-color);\n",
              "    fill: var(--disabled-fill-color);\n",
              "    box-shadow: none;\n",
              "  }\n",
              "\n",
              "  .colab-df-spinner {\n",
              "    border: 2px solid var(--fill-color);\n",
              "    border-color: transparent;\n",
              "    border-bottom-color: var(--fill-color);\n",
              "    animation:\n",
              "      spin 1s steps(1) infinite;\n",
              "  }\n",
              "\n",
              "  @keyframes spin {\n",
              "    0% {\n",
              "      border-color: transparent;\n",
              "      border-bottom-color: var(--fill-color);\n",
              "      border-left-color: var(--fill-color);\n",
              "    }\n",
              "    20% {\n",
              "      border-color: transparent;\n",
              "      border-left-color: var(--fill-color);\n",
              "      border-top-color: var(--fill-color);\n",
              "    }\n",
              "    30% {\n",
              "      border-color: transparent;\n",
              "      border-left-color: var(--fill-color);\n",
              "      border-top-color: var(--fill-color);\n",
              "      border-right-color: var(--fill-color);\n",
              "    }\n",
              "    40% {\n",
              "      border-color: transparent;\n",
              "      border-right-color: var(--fill-color);\n",
              "      border-top-color: var(--fill-color);\n",
              "    }\n",
              "    60% {\n",
              "      border-color: transparent;\n",
              "      border-right-color: var(--fill-color);\n",
              "    }\n",
              "    80% {\n",
              "      border-color: transparent;\n",
              "      border-right-color: var(--fill-color);\n",
              "      border-bottom-color: var(--fill-color);\n",
              "    }\n",
              "    90% {\n",
              "      border-color: transparent;\n",
              "      border-bottom-color: var(--fill-color);\n",
              "    }\n",
              "  }\n",
              "</style>\n",
              "\n",
              "      <script>\n",
              "        async function quickchart(key) {\n",
              "          const quickchartButtonEl =\n",
              "            document.querySelector('#' + key + ' button');\n",
              "          quickchartButtonEl.disabled = true;  // To prevent multiple clicks.\n",
              "          quickchartButtonEl.classList.add('colab-df-spinner');\n",
              "          try {\n",
              "            const charts = await google.colab.kernel.invokeFunction(\n",
              "                'suggestCharts', [key], {});\n",
              "          } catch (error) {\n",
              "            console.error('Error during call to suggestCharts:', error);\n",
              "          }\n",
              "          quickchartButtonEl.classList.remove('colab-df-spinner');\n",
              "          quickchartButtonEl.classList.add('colab-df-quickchart-complete');\n",
              "        }\n",
              "        (() => {\n",
              "          let quickchartButtonEl =\n",
              "            document.querySelector('#df-a17b498a-b953-4d53-9e69-e42adbf1deb8 button');\n",
              "          quickchartButtonEl.style.display =\n",
              "            google.colab.kernel.accessAllowed ? 'block' : 'none';\n",
              "        })();\n",
              "      </script>\n",
              "    </div>\n",
              "\n",
              "    </div>\n",
              "  </div>\n"
            ],
            "text/plain": [
              "                                   frase     situacao\n",
              "0       sinto dor no peito e falta de ar   alto risco\n",
              "1       tive um leve incômodo nas costas  baixo risco\n",
              "2  sinto palpitações e tontura constante   alto risco\n",
              "3         acordei com dor de cabeça leve  baixo risco\n",
              "4           tenho febre alta e calafrios  médio risco"
            ]
          },
          "metadata": {},
          "output_type": "display_data"
        },
        {
          "name": "stdout",
          "output_type": "stream",
          "text": [
            "\n",
            "Distribuição de rótulos:\n"
          ]
        },
        {
          "data": {
            "text/html": [
              "<div>\n",
              "<style scoped>\n",
              "    .dataframe tbody tr th:only-of-type {\n",
              "        vertical-align: middle;\n",
              "    }\n",
              "\n",
              "    .dataframe tbody tr th {\n",
              "        vertical-align: top;\n",
              "    }\n",
              "\n",
              "    .dataframe thead th {\n",
              "        text-align: right;\n",
              "    }\n",
              "</style>\n",
              "<table border=\"1\" class=\"dataframe\">\n",
              "  <thead>\n",
              "    <tr style=\"text-align: right;\">\n",
              "      <th></th>\n",
              "      <th>count</th>\n",
              "    </tr>\n",
              "    <tr>\n",
              "      <th>situacao</th>\n",
              "      <th></th>\n",
              "    </tr>\n",
              "  </thead>\n",
              "  <tbody>\n",
              "    <tr>\n",
              "      <th>médio risco</th>\n",
              "      <td>20</td>\n",
              "    </tr>\n",
              "    <tr>\n",
              "      <th>alto risco</th>\n",
              "      <td>18</td>\n",
              "    </tr>\n",
              "    <tr>\n",
              "      <th>baixo risco</th>\n",
              "      <td>13</td>\n",
              "    </tr>\n",
              "  </tbody>\n",
              "</table>\n",
              "</div><br><label><b>dtype:</b> int64</label>"
            ],
            "text/plain": [
              "situacao\n",
              "médio risco    20\n",
              "alto risco     18\n",
              "baixo risco    13\n",
              "Name: count, dtype: int64"
            ]
          },
          "metadata": {},
          "output_type": "display_data"
        }
      ],
      "source": [
        "# 2) Ler base de dados e exibir informações\n",
        "import pandas as pd\n",
        "\n",
        "df = pd.read_csv(CSV_PATH)\n",
        "print('Dimensões:', df.shape)\n",
        "print('\\nAmostra das primeiras linhas:')\n",
        "display(df.head())\n",
        "print('\\nDistribuição de rótulos:')\n",
        "display(df['situacao'].value_counts())"
      ]
    },
    {
      "cell_type": "code",
      "execution_count": null,
      "id": "ac2d02b0",
      "metadata": {
        "colab": {
          "base_uri": "https://localhost:8080/"
        },
        "id": "ac2d02b0",
        "outputId": "69aff05e-0828-4da9-f890-ccd2cfc6a6cb"
      },
      "outputs": [
        {
          "name": "stdout",
          "output_type": "stream",
          "text": [
            "TF-IDF treino: (40, 311)\n",
            "TF-IDF teste: (11, 311)\n"
          ]
        }
      ],
      "source": [
        "# 3) Divisão treino/teste e TF-IDF\n",
        "from sklearn.model_selection import train_test_split\n",
        "from sklearn.feature_extraction.text import TfidfVectorizer\n",
        "\n",
        "X_train, X_test, y_train, y_test = train_test_split(\n",
        "    df['frase'], df['situacao'], test_size=0.2, random_state=42, stratify=df['situacao']\n",
        ")\n",
        "\n",
        "vectorizer = TfidfVectorizer(\n",
        "    stop_words=None,\n",
        "    strip_accents='unicode',\n",
        "    lowercase=True,\n",
        "    ngram_range=(1, 2)\n",
        ")\n",
        "X_train_tfidf = vectorizer.fit_transform(X_train)\n",
        "X_test_tfidf = vectorizer.transform(X_test)\n",
        "\n",
        "print('TF-IDF treino:', X_train_tfidf.shape)\n",
        "print('TF-IDF teste:', X_test_tfidf.shape)"
      ]
    },
    {
      "cell_type": "code",
      "execution_count": null,
      "id": "703cf590",
      "metadata": {
        "colab": {
          "base_uri": "https://localhost:8080/"
        },
        "id": "703cf590",
        "outputId": "a62a42f4-3b8e-4f1f-938d-b7e541b4958c"
      },
      "outputs": [
        {
          "name": "stdout",
          "output_type": "stream",
          "text": [
            "Modelo treinado com sucesso.\n"
          ]
        }
      ],
      "source": [
        "# 4) Treinamento do modelo (Regressão Logística)\n",
        "from sklearn.linear_model import LogisticRegression\n",
        "\n",
        "model = LogisticRegression(max_iter=200)\n",
        "model.fit(X_train_tfidf, y_train)\n",
        "print('Modelo treinado com sucesso.')"
      ]
    },
    {
      "cell_type": "code",
      "execution_count": null,
      "id": "7ffbe967",
      "metadata": {
        "colab": {
          "base_uri": "https://localhost:8080/"
        },
        "id": "7ffbe967",
        "outputId": "f14727ce-a6c1-4d0b-d457-134ac2ad8686"
      },
      "outputs": [
        {
          "name": "stdout",
          "output_type": "stream",
          "text": [
            "Acurácia: 54.55%\n",
            "\n",
            "Relatório de Classificação:\n",
            "               precision    recall  f1-score   support\n",
            "\n",
            "  alto risco       0.50      0.50      0.50         4\n",
            " baixo risco       1.00      0.33      0.50         3\n",
            " médio risco       0.50      0.75      0.60         4\n",
            "\n",
            "    accuracy                           0.55        11\n",
            "   macro avg       0.67      0.53      0.53        11\n",
            "weighted avg       0.64      0.55      0.54        11\n",
            "\n",
            "Relatório salvo em: /content/drive/MyDrive/CardioAI/Classificador/reports/relatorio_classificacao.txt\n"
          ]
        }
      ],
      "source": [
        "# 5) Avaliação e relatório\n",
        "from sklearn.metrics import accuracy_score, classification_report\n",
        "\n",
        "y_pred = model.predict(X_test_tfidf)\n",
        "acc = accuracy_score(y_test, y_pred)\n",
        "report = classification_report(y_test, y_pred)\n",
        "\n",
        "print(f'Acurácia: {acc:.2%}\\n')\n",
        "print('Relatório de Classificação:\\n', report)\n",
        "\n",
        "# Salvar relatório\n",
        "relatorio_path = os.path.join(reports_dir, 'relatorio_classificacao.txt')\n",
        "with open(relatorio_path, 'w') as f:\n",
        "    f.write(f'Acurácia: {acc:.2%}\\n\\n')\n",
        "    f.write(report)\n",
        "print(f'Relatório salvo em: {relatorio_path}')"
      ]
    },
    {
      "cell_type": "code",
      "execution_count": null,
      "id": "9ae94c39",
      "metadata": {
        "colab": {
          "base_uri": "https://localhost:8080/",
          "height": 386
        },
        "id": "9ae94c39",
        "outputId": "c13ec8b3-0a71-4310-c371-e900790d1cb5"
      },
      "outputs": [
        {
          "data": {
            "image/png": "[encoded data removed]",
            "text/plain": [
              "<Figure size 400x400 with 1 Axes>"
            ]
          },
          "metadata": {},
          "output_type": "display_data"
        },
        {
          "name": "stdout",
          "output_type": "stream",
          "text": [
            "Gráfico salvo em: /content/drive/MyDrive/CardioAI/Classificador/reports/matriz_confusao.png\n"
          ]
        }
      ],
      "source": [
        "# 6) Matriz de confusão e gráfico (salvar em reports)\n",
        "import matplotlib.pyplot as plt\n",
        "from sklearn.metrics import confusion_matrix\n",
        "import numpy as np\n",
        "\n",
        "labels = ['alto risco', 'baixo risco']\n",
        "cm = confusion_matrix(y_test, y_pred, labels=labels)\n",
        "\n",
        "fig, ax = plt.subplots(figsize=(4, 4))\n",
        "im = ax.imshow(cm)\n",
        "ax.set_xticks(np.arange(len(labels)))\n",
        "ax.set_yticks(np.arange(len(labels)))\n",
        "ax.set_xticklabels(labels)\n",
        "ax.set_yticklabels(labels)\n",
        "for i in range(cm.shape[0]):\n",
        "    for j in range(cm.shape[1]):\n",
        "        ax.text(j, i, cm[i, j], ha='center', va='center')\n",
        "ax.set_title('Matriz de Confusão')\n",
        "ax.set_xlabel('Previsto')\n",
        "ax.set_ylabel('Real')\n",
        "fig.tight_layout()\n",
        "\n",
        "grafico_path = os.path.join(reports_dir, 'matriz_confusao.png')\n",
        "plt.savefig(grafico_path)\n",
        "plt.show()\n",
        "print(f'Gráfico salvo em: {grafico_path}')"
      ]
    },
    {
      "cell_type": "code",
      "execution_count": null,
      "id": "3f2ffaa5",
      "metadata": {
        "colab": {
          "base_uri": "https://localhost:8080/"
        },
        "id": "3f2ffaa5",
        "outputId": "825c64d9-442b-46c4-b596-08a33161f168"
      },
      "outputs": [
        {
          "name": "stdout",
          "output_type": "stream",
          "text": [
            "sinto dor leve no braço -> alto risco\n",
            "tenho falta de ar e dor no peito -> alto risco\n",
            "tive leve dor de cabeça -> médio risco\n",
            "sinto palpitações e tontura forte -> alto risco\n"
          ]
        }
      ],
      "source": [
        "# 7) Teste com novas frases\n",
        "novas = [\n",
        "    'sinto dor leve no braço',\n",
        "    'tenho falta de ar e dor no peito',\n",
        "    'tive leve dor de cabeça',\n",
        "    'sinto palpitações e tontura forte'\n",
        "]\n",
        "novas_tfidf = vectorizer.transform(novas)\n",
        "pred_novas = model.predict(novas_tfidf)\n",
        "for f, p in zip(novas, pred_novas):\n",
        "    print(f'{f} -> {p}')"
      ]
    }
  ],
  "metadata": {
    "colab": {
      "include_colab_link": true,
      "provenance": []
    },
    "kernelspec": {
      "display_name": "Python 3",
      "language": "python",
      "name": "python3"
    },
    "language_info": {
      "name": "python"
    }
  },
  "nbformat": 4,
  "nbformat_minor": 5
}
